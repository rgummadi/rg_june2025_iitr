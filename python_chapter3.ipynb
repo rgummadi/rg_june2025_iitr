{
 "cells": [
  {
   "cell_type": "markdown",
   "id": "4fc6be6c",
   "metadata": {},
   "source": [
    "\n",
    "## Factorial using recursion\n",
    "\n",
    "**Topic:** *Factorial using Recursion*\n",
    "\n",
    "---\n",
    "\n",
    "### **Simple Explanation:**\n",
    "\n",
    "A **factorial** of a number is the result of multiplying all whole numbers from that number down to 1.\n",
    "\n",
    "For example:\n",
    "\n",
    "* The factorial of 5 is: `5 × 4 × 3 × 2 × 1 = 120`\n",
    "* The factorial of 3 is: `3 × 2 × 1 = 6`\n",
    "* The factorial of 1 is: `1`\n",
    "\n",
    "The factorial of 0 is defined as **1** (by convention).\n",
    "\n",
    "Now, there's a smart way to compute factorials using something called **recursion**. In recursion, a function calls itself with a smaller input to eventually solve a problem.\n",
    "\n",
    "Example logic:\n",
    "\n",
    "* factorial(5) = 5 × factorial(4)\n",
    "* factorial(4) = 4 × factorial(3)\n",
    "* ...\n",
    "* factorial(1) = 1 (this is called the *base case*)\n",
    "\n",
    "So it keeps breaking the problem into smaller parts until it reaches 1.\n",
    "\n",
    "---\n",
    "\n",
    "### **Exercise:**\n",
    "\n",
    "Write a function `factorial_recursive(n)` that takes one argument `n` (a non-negative integer) and returns the factorial of that number using recursion.\n",
    "\n",
    "If `n` is 0, the function should return 1.\n",
    "\n",
    "---\n",
    "\n",
    "### **Example:**\n",
    "\n",
    "```python\n",
    "factorial_recursive(5)  # Output: 120  \n",
    "factorial_recursive(3)  # Output: 6  \n",
    "factorial_recursive(0)  # Output: 1  \n",
    "factorial_recursive(1)  # Output: 1  \n",
    "```"
   ]
  },
  {
   "cell_type": "code",
   "execution_count": 6,
   "id": "5abc457f",
   "metadata": {},
   "outputs": [
    {
     "name": "stdout",
     "output_type": "stream",
     "text": [
      "120\n",
      "6\n",
      "1\n",
      "1\n"
     ]
    }
   ],
   "source": [
    "def factorial_recursive(n):\n",
    "    if (n == 1 or n == 0):\n",
    "        return 1\n",
    "    else:\n",
    "        return n * factorial_recursive(n-1)\n",
    "\n",
    "print(factorial_recursive(5))  # Output: 120  \n",
    "print(factorial_recursive(3))  # Output: 6  \n",
    "print(factorial_recursive(0))  # Output: 1  \n",
    "print(factorial_recursive(1))  # Output: 1  \n"
   ]
  },
  {
   "cell_type": "markdown",
   "id": "bf4247a5",
   "metadata": {},
   "source": [
    "\n",
    "## Compute HCF using Euclid's Method with Recursion*\n",
    "\n",
    "**Topic:** *Compute HCF using Euclid's Method with Recursion*\n",
    "\n",
    "---\n",
    "\n",
    "### **Explanation:**\n",
    "\n",
    "HCF stands for **Highest Common Factor**, also known as **GCD (Greatest Common Divisor)**. It is the largest number that evenly divides two numbers.\n",
    "\n",
    "For example:\n",
    "\n",
    "* The HCF of 12 and 18 is 6, because 6 is the biggest number that divides both 12 and 18 without a remainder.\n",
    "\n",
    "**Euclid’s Method** is a smart and efficient way to compute the HCF. It works like this:\n",
    "\n",
    "* If `b` is 0, the HCF is `a`.\n",
    "* Otherwise, HCF of `a` and `b` is the same as the HCF of `b` and `a % b`.\n",
    "\n",
    "This method keeps reducing the problem until it finds the HCF. We can use **recursion** to apply this method repeatedly until we get the answer.\n",
    "\n",
    "---\n",
    "\n",
    "### **Exercise:**\n",
    "\n",
    "Write a function named `compute_hcf(a, b)` that takes two positive integers `a` and `b` and returns their HCF using Euclid's method with recursion.\n",
    "\n",
    "* You should **use recursion** to solve this problem.\n",
    "* The function should return an integer.\n",
    "\n",
    "---\n",
    "\n",
    "### **Example Usage:**\n",
    "\n",
    "```python\n",
    "compute_hcf(12, 18)     # Output: 6\n",
    "compute_hcf(100, 25)    # Output: 25\n",
    "compute_hcf(17, 13)     # Output: 1\n",
    "compute_hcf(0, 5)       # Output: 5\n",
    "```\n",
    "\n",
    "> 💡 *Hint: Try to express the logic using the rule: HCF(a, b) = HCF(b, a % b)*\n",
    "> Remember that recursion means your function will call itself with smaller values until it reaches a stopping point."
   ]
  },
  {
   "cell_type": "code",
   "execution_count": 1,
   "id": "8b281205",
   "metadata": {},
   "outputs": [
    {
     "name": "stdout",
     "output_type": "stream",
     "text": [
      "6\n",
      "25\n",
      "1\n",
      "5\n"
     ]
    }
   ],
   "source": [
    "def compute_hcf(a,b):\n",
    "    if(b == 0):\n",
    "        return a\n",
    "    else:\n",
    "        return compute_hcf(b,a%b)\n",
    "\n",
    "\n",
    "print(compute_hcf(12, 18))     # Output: 6\n",
    "print(compute_hcf(100, 25))    # Output: 25\n",
    "print(compute_hcf(17, 13))     # Output: 1\n",
    "print(compute_hcf(0, 5))       # Output: 5"
   ]
  },
  {
   "cell_type": "markdown",
   "id": "4d6fbdf7",
   "metadata": {},
   "source": [
    "\n",
    "## Multiplication using recursion\n",
    "\n",
    "### **Topic:** *Multiplication using Recursion*\n",
    "\n",
    "#### **Simple Explanation:**\n",
    "\n",
    "Multiplication means adding a number to itself a certain number of times.\n",
    "For example, 4 multiplied by 3 means:\n",
    "`4 + 4 + 4 = 12`.\n",
    "\n",
    "Recursion means a function that calls itself to solve smaller versions of the same problem.\n",
    "Instead of using the `*` (multiplication) operator directly, you can use recursion to repeatedly add a number.\n",
    "\n",
    "So, to multiply `a` and `b`, you can add `a` to the result of multiplying `a` and `b-1`.\n",
    "\n",
    "Also, consider that:\n",
    "\n",
    "* If `b` is 0, the result is 0 (anything multiplied by 0 is 0).\n",
    "* If `b` is negative, handle it by converting to positive, and then negating the result.\n",
    "\n",
    "---\n",
    "\n",
    "### **Exercise:**\n",
    "\n",
    "Write a function `multiply_recursive(a, b)` that multiplies two integers using recursion (without using the `*` operator).\n",
    "\n",
    "* `a`: the first number (int)\n",
    "* `b`: the second number (int)\n",
    "\n",
    "Return the product of `a` and `b`.\n",
    "\n",
    "---\n",
    "\n",
    "### **Example Usage:**\n",
    "\n",
    "```python\n",
    "multiply_recursive(4, 3)     # Output: 12\n",
    "multiply_recursive(5, 0)     # Output: 0\n",
    "multiply_recursive(7, -2)    # Output: -14\n",
    "multiply_recursive(-3, -3)   # Output: 9\n",
    "```"
   ]
  },
  {
   "cell_type": "code",
   "execution_count": 13,
   "id": "4d925425",
   "metadata": {},
   "outputs": [
    {
     "name": "stdout",
     "output_type": "stream",
     "text": [
      "12\n",
      "0\n",
      "-14\n",
      "9\n"
     ]
    }
   ],
   "source": [
    "def multiply_recursive(a,b):\n",
    "    if (b == 0):\n",
    "        return 0\n",
    "    elif (b > 0):\n",
    "        return a + multiply_recursive(a,b-1)\n",
    "    else:\n",
    "        return -a + multiply_recursive(a,b+1)\n",
    "\n",
    "\n",
    "print(multiply_recursive(4, 3))     # Output: 12\n",
    "print(multiply_recursive(5, 0))     # Output: 0\n",
    "print(multiply_recursive(7, -2))    # Output: -14\n",
    "print(multiply_recursive(-3, -3))   # Output: 9"
   ]
  },
  {
   "cell_type": "markdown",
   "id": "bf863408",
   "metadata": {},
   "source": [
    "\n",
    "## Division using recursion to find quotient and remainder\n",
    "\n",
    "### **Topic:** *Division using Recursion to Find Quotient and Remainder*\n",
    "\n",
    "#### **Simple Explanation:**\n",
    "\n",
    "Division is the process of finding how many times one number (called the **divisor**) fits into another number (called the **dividend**).\n",
    "For example, in `17 ÷ 5`, the number 5 fits into 17 **three** times (that’s the **quotient**) and there are **2** left over (that’s the **remainder**), because:\n",
    "\n",
    "```\n",
    "5 + 5 + 5 = 15, and 17 - 15 = 2  \n",
    "So, 17 ÷ 5 gives quotient = 3 and remainder = 2\n",
    "```\n",
    "\n",
    "**Recursion** means solving a problem by breaking it into smaller versions of the same problem. In this case, we repeatedly subtract the divisor from the dividend and count how many times we do it until what’s left is smaller than the divisor (that’s the remainder).\n",
    "\n",
    "---\n",
    "\n",
    "### **Exercise:**\n",
    "\n",
    "Write a function `recursive_divide(dividend, divisor)` that returns a tuple `(quotient, remainder)` using recursion.\n",
    "You **must not** use the `//` or `%` operators.\n",
    "\n",
    "* `dividend`: a non-negative integer\n",
    "* `divisor`: a positive integer\n",
    "\n",
    "**Return:** A tuple of two integers: `(quotient, remainder)`\n",
    "\n",
    "---\n",
    "\n",
    "### **Example Usage:**\n",
    "\n",
    "```python\n",
    "recursive_divide(17, 5)   # Output: (3, 2)\n",
    "recursive_divide(20, 4)   # Output: (5, 0)\n",
    "recursive_divide(7, 3)    # Output: (2, 1)\n",
    "recursive_divide(0, 1)    # Output: (0, 0)\n",
    "```\n"
   ]
  },
  {
   "cell_type": "code",
   "execution_count": 19,
   "id": "004a4cfd",
   "metadata": {},
   "outputs": [
    {
     "name": "stdout",
     "output_type": "stream",
     "text": [
      "(3, 2)\n",
      "(5, 0)\n",
      "(2, 1)\n",
      "(0, 0)\n"
     ]
    }
   ],
   "source": [
    "def recursive_divide(dividend,divisor):\n",
    "    if(dividend < divisor):\n",
    "        return (0,dividend)\n",
    "    else:\n",
    "        quotient,remainder = recursive_divide(dividend-divisor, divisor)\n",
    "        return (quotient + 1, remainder)\n",
    "\n",
    "print(recursive_divide(17, 5))   # Output: (3, 2)\n",
    "print(recursive_divide(20, 4))  # Output: (5, 0)\n",
    "print(recursive_divide(7, 3))    # Output: (2, 1)\n",
    "print(recursive_divide(0, 1))    # Output: (0, 0)\n"
   ]
  },
  {
   "cell_type": "markdown",
   "id": "3a83c194",
   "metadata": {},
   "source": [
    "\n",
    "## Tower of hanoi"
   ]
  }
 ],
 "metadata": {
  "kernelspec": {
   "display_name": "base",
   "language": "python",
   "name": "python3"
  },
  "language_info": {
   "codemirror_mode": {
    "name": "ipython",
    "version": 3
   },
   "file_extension": ".py",
   "mimetype": "text/x-python",
   "name": "python",
   "nbconvert_exporter": "python",
   "pygments_lexer": "ipython3",
   "version": "3.13.5"
  }
 },
 "nbformat": 4,
 "nbformat_minor": 5
}

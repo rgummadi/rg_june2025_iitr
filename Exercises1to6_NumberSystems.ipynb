{
 "cells": [
  {
   "cell_type": "markdown",
   "id": "b171a1ff",
   "metadata": {},
   "source": [
    "#Exercise 1\n",
    "#Base7\n",
    "0\n",
    "1\n",
    "2\n",
    "3\n",
    "4\n",
    "5\n",
    "6"
   ]
  },
  {
   "cell_type": "markdown",
   "id": "1343667f",
   "metadata": {},
   "source": [
    "#Exercise 2\n",
    "# Write  up to 3 Digits in Your Base\n",
    "0,1,2,3,4,5,6,10,11,12,13,14,15,16,20,21,22,23,24,25,26,30,31,32,33,34,35,36,40,41,42,43,44,45,46,50,51,52,53,54,55,56,60,61,62,63,64,65,66,100,101,102,103,104,105,106,110,111,112,113,114,115,116,-----,166,200,201,202,203,204,206,-----,266,300,301,------,466,500,501,--- 566,---,600,601----666."
   ]
  },
  {
   "cell_type": "code",
   "execution_count": null,
   "id": "0103833c",
   "metadata": {
    "vscode": {
     "languageId": "plaintext"
    }
   },
   "outputs": [],
   "source": [
    "#Exercise 3A - Addition table\n",
    "0 1  2  3  4  5  6 \n",
    "0 1  2  3  4  5  6\n",
    "1 2  3  4  5  6  10\n",
    "2 3  4  5  6  10 11  \n",
    "3 4  5  6  10 11 12\n",
    "4 5  6  10 11 12 13 \n",
    "5 6  10 11 12 13 14\n",
    "6 10 11 12 13 14 15\n",
    "\n",
    "5 + 6 = 14\n",
    "143 + 43 = 216"
   ]
  },
  {
   "cell_type": "code",
   "execution_count": null,
   "id": "a4a07655",
   "metadata": {
    "vscode": {
     "languageId": "plaintext"
    }
   },
   "outputs": [],
   "source": [
    "#Exercise 3B - Substraction table\n",
    "0  1  2  3  4  5  6\n",
    "1  0\n",
    "2  1  0  \n",
    "3  2  0  0\n",
    "4  3  1  1  0\n",
    "5  4  3  2  1  0\n",
    "6  5  4  3  2  1  0 "
   ]
  },
  {
   "cell_type": "code",
   "execution_count": null,
   "id": "39289c1c",
   "metadata": {
    "vscode": {
     "languageId": "plaintext"
    }
   },
   "outputs": [],
   "source": [
    "#Exercise 4\n",
    "#4A\n",
    "35 + 24 = 62 in base 7\n",
    "45 + 56 = 134 in base 7\n",
    "125 + 56 = 214 in base 7\n",
    "\n",
    "#4B\n",
    "35 - 24 = 11 in base 7\n",
    "56 - 45 = 11 in base 7\n",
    "125 - 56 = 36 in base 7\n"
   ]
  },
  {
   "cell_type": "code",
   "execution_count": null,
   "id": "b6133bea",
   "metadata": {
    "vscode": {
     "languageId": "plaintext"
    }
   },
   "outputs": [],
   "source": [
    "#Exercise 5 - Multiplication table\n",
    "1 2  3  4   5   6\n",
    "2 4  6  11  13  15   \n",
    "3 6  12 15  21  24\n",
    "4 11 15 22  26  33  \n",
    "5 13 21 26  34  42 \n",
    "6 15 24 33  42  56"
   ]
  },
  {
   "cell_type": "code",
   "execution_count": null,
   "id": "a4deae44",
   "metadata": {
    "vscode": {
     "languageId": "plaintext"
    }
   },
   "outputs": [],
   "source": [
    "#Exercise 6 \n",
    "13 * 21 = 303 in base 7\n",
    "41 * 32 = 1642 in base 7"
   ]
  }
 ],
 "metadata": {
  "language_info": {
   "name": "python"
  }
 },
 "nbformat": 4,
 "nbformat_minor": 5
}

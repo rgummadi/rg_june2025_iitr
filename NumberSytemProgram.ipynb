{
 "cells": [
  {
   "cell_type": "code",
   "execution_count": null,
   "id": "9ee1bde7",
   "metadata": {},
   "outputs": [],
   "source": [
    "#Convert 1, 10, 20, 30, 100 from your base to base10.\n",
    "1 -> 1\n",
    "10 -> 7\n",
    "20 -> 14\n",
    "30 -> 21\n",
    "100 -> 49"
   ]
  },
  {
   "cell_type": "code",
   "execution_count": 20,
   "id": "9195e0f7",
   "metadata": {},
   "outputs": [
    {
     "name": "stdout",
     "output_type": "stream",
     "text": [
      "Processing digit: 1\n",
      "Processing digit: 2\n",
      "Processing digit: 2\n",
      "Processing digit: 4\n",
      "459\n"
     ]
    }
   ],
   "source": [
    "#Write a strategy to convert a number in your base to base 10 in plain english or pseudo code or python\n",
    "def convert_to_base10(num_str, base):\n",
    "    total = 0\n",
    "    for digit in num_str:\n",
    "        print(f\"Processing digit: {digit}\")\n",
    "        total = total * base + int(digit)\n",
    "    return total\n",
    "result = convert_to_base10(\"1224\",7)\n",
    "print(result)\n"
   ]
  },
  {
   "cell_type": "code",
   "execution_count": 13,
   "id": "f64936c2",
   "metadata": {},
   "outputs": [
    {
     "name": "stdout",
     "output_type": "stream",
     "text": [
      "Converted digits: ['1', '2', '3']\n",
      "123\n"
     ]
    }
   ],
   "source": [
    "def convertbase10_to_givenbase(num, base):\n",
    "    if num == 0:\n",
    "        return \"0\"\n",
    "    digits = []\n",
    "    while num > 0:\n",
    "        remainder = num % base\n",
    "        digits.append(str(remainder))\n",
    "        num //= base\n",
    "    digits.reverse()\n",
    "    print (f\"Converted digits: {digits}\")\n",
    "    return ''.join(digits)\n",
    "\n",
    "result = convertbase10_to_givenbase(66, 7)\n",
    "print(result)  "
   ]
  },
  {
   "cell_type": "code",
   "execution_count": null,
   "id": "527058a6",
   "metadata": {},
   "outputs": [],
   "source": [
    "\n",
    "#Write a strategy to convert a number in base N to base M in plain english or pseudo code or python"
   ]
  }
 ],
 "metadata": {
  "kernelspec": {
   "display_name": "base",
   "language": "python",
   "name": "python3"
  },
  "language_info": {
   "codemirror_mode": {
    "name": "ipython",
    "version": 3
   },
   "file_extension": ".py",
   "mimetype": "text/x-python",
   "name": "python",
   "nbconvert_exporter": "python",
   "pygments_lexer": "ipython3",
   "version": "3.13.5"
  }
 },
 "nbformat": 4,
 "nbformat_minor": 5
}
